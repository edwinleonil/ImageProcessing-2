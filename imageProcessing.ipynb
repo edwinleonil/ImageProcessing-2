{
 "cells": [
  {
   "cell_type": "code",
   "execution_count": null,
   "metadata": {},
   "outputs": [],
   "source": [
    "# load adn image and apply histogram equalization with skimage\n",
    "\n",
    "import matplotlib.pyplot as plt\n",
    "from skimage import data, exposure, img_as_float, io\n",
    "\n",
    "# get the path of files inside the folder da/C\n",
    "import os\n",
    "path = 'data/C'\n",
    "files = os.listdir(path)\n",
    "\n",
    "idx = 25\n",
    "image = img_as_float(io.imread(os.path.join(path, files[idx])))\n",
    "\n",
    "# apply adaptive histogram equalization\n",
    "image_eq = exposure.equalize_adapthist(image, clip_limit=0.03)\n",
    "\n",
    "# display the results\n",
    "fig = plt.figure(figsize=(8, 5))\n",
    "ax1 = fig.add_subplot(121)\n",
    "ax1.imshow(image, cmap=plt.cm.gray)\n",
    "ax1.set_title('Original')\n",
    "ax1.axis('off')\n",
    "ax2 = fig.add_subplot(122)\n",
    "ax2.imshow(image_eq, cmap=plt.cm.gray)\n",
    "ax2.set_title('Adaptive Equalization')\n",
    "ax2.axis('off')\n",
    "plt.show()"
   ]
  },
  {
   "cell_type": "code",
   "execution_count": null,
   "metadata": {},
   "outputs": [],
   "source": [
    "# get the path of files inside the folder da/Pinsite\n",
    "import os\n",
    "import cv2\n",
    "import matplotlib.pyplot as plt\n",
    "\n",
    "path = 'data/D'\n",
    "files = os.listdir(path)\n",
    "\n",
    "idx = 25\n",
    "image = cv2.imread(os.path.join(path, files[idx]), cv2.IMREAD_GRAYSCALE)\n",
    "\n",
    "clahe = cv2.createCLAHE(clipLimit=2.0, tileGridSize=(8,8))\n",
    "cl1 = clahe.apply(image)\n",
    "\n",
    "equ = cv2.equalizeHist(image)\n",
    "\n",
    "# get image file name\n",
    "\n",
    "# show original and processed image side by side with plt\n",
    "plt.figure(figsize=(10,10))\n",
    "plt.subplot(1,3,1)\n",
    "plt.imshow(image, cmap='gray')\n",
    "plt.title('Original Image')\n",
    "plt.subplot(1,3,2)\n",
    "plt.imshow(cl1, cmap='gray')\n",
    "plt.title('CLAHE')\n",
    "plt.subplot(1,3,3)\n",
    "plt.imshow(equ, cmap='gray')\n",
    "plt.title('Histogram Equalization')\n",
    "plt.show()\n"
   ]
  },
  {
   "cell_type": "markdown",
   "metadata": {},
   "source": [
    "Apply histogram equalization to the image"
   ]
  },
  {
   "cell_type": "code",
   "execution_count": 36,
   "metadata": {},
   "outputs": [],
   "source": [
    "import matplotlib.pyplot as plt\n",
    "from skimage import data, exposure, img_as_float, io, color, img_as_ubyte\n",
    "import os\n",
    "\n",
    "# get the path of files inside the folder data/D\n",
    "path = 'data/D'\n",
    "files = os.listdir(path)\n",
    "\n",
    "# iterate through the files and apply the histogram equalization\n",
    "for file in files:\n",
    "    img = io.imread(os.path.join(path, file))\n",
    "    # print(img.shape)\n",
    "    img_eq = exposure.equalize_adapthist(img_as_float(img))\n",
    "    # Convert the image to RGB mode\n",
    "    img_rgb = color.gray2rgb(img_eq)\n",
    "    # convert to uint8\n",
    "    img_rgb = img_as_ubyte(img_rgb)\n",
    "    # save the image\n",
    "    io.imsave('data/D_eq/' + file, img_rgb)\n",
    "    "
   ]
  },
  {
   "cell_type": "code",
   "execution_count": 26,
   "metadata": {},
   "outputs": [
    {
     "name": "stdout",
     "output_type": "stream",
     "text": [
      "(640, 640, 3)\n"
     ]
    }
   ],
   "source": [
    "import cv2\n",
    "import numpy as np\n",
    "import matplotlib.pyplot as plt\n",
    "# display img_eq_rgb with PIL\n",
    "from PIL import Image\n",
    "\n",
    "path = r'test.png'\n",
    "#read image\n",
    "img = cv2.imread(path)\n",
    "print(img.shape)"
   ]
  }
 ],
 "metadata": {
  "kernelspec": {
   "display_name": "pyword",
   "language": "python",
   "name": "python3"
  },
  "language_info": {
   "codemirror_mode": {
    "name": "ipython",
    "version": 3
   },
   "file_extension": ".py",
   "mimetype": "text/x-python",
   "name": "python",
   "nbconvert_exporter": "python",
   "pygments_lexer": "ipython3",
   "version": "3.9.17"
  },
  "orig_nbformat": 4
 },
 "nbformat": 4,
 "nbformat_minor": 2
}
