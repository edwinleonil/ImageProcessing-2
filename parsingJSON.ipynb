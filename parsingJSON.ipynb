{
 "cells": [
  {
   "cell_type": "markdown",
   "metadata": {},
   "source": [
    "Parsing JSON files to convert to txt files"
   ]
  },
  {
   "cell_type": "code",
   "execution_count": 2,
   "metadata": {},
   "outputs": [],
   "source": [
    "# get the list of all json files inside the folder anotations2\n",
    "\n",
    "import os\n",
    "import json\n",
    "import pandas as pd\n",
    "import numpy as np\n",
    "\n",
    "path = r'\\data\\anotations2'\n",
    "files = os.listdir(path)\n",
    "\n",
    "files = [os.path.join(path, file) for file in files if file.endswith('.json')]\n",
    "\n",
    "# get the points of the json files from the points key and save it as a txt file\n",
    "for file in files:\n",
    "    with open(file) as f:\n",
    "        data = json.load(f)\n",
    "        for shape in data['shapes']:\n",
    "            points = shape['points']\n",
    "            points = np.array(points)\n",
    "            points = points.astype(int)\n",
    "            points = points.flatten()\n",
    "            points = points.tolist()\n",
    "            # these points are the points of the bounding box representing x,y,x,y\n",
    "            # we need to convert them to x,y as center and width and height of the box and normalized them to the image size\n",
    "\n",
    "            # get the image size\n",
    "            width = data['imageWidth']\n",
    "            height = data['imageHeight']\n",
    "\n",
    "            # get the center of the box\n",
    "            x = (points[0] + points[2]) / 2\n",
    "            y = (points[1] + points[3]) / 2\n",
    "\n",
    "            # get the width and height of the box\n",
    "            w = points[2] - points[0]\n",
    "            h = points[3] - points[1]\n",
    "\n",
    "            # normalize the values\n",
    "            x = x / width\n",
    "            y = y / height\n",
    "            w = w / width\n",
    "            h = h / height\n",
    "\n",
    "            # save the values in a txt file with the same name as the json file\n",
    "            file_name = file.split('\\\\')[-1]\n",
    "            file_name = file_name.split('.')[0]\n",
    "            file_name = file_name + '.txt'\n",
    "            file_name = os.path.join('data/txt/', file_name)\n",
    "            with open(file_name, 'a') as f:\n",
    "                f.write('0 ' + str(x) + ' ' + str(y) + ' ' + str(w) + ' ' + str(h) + '\\n')\n",
    "        \n",
    "            \n",
    "            "
   ]
  },
  {
   "cell_type": "markdown",
   "metadata": {},
   "source": []
  }
 ],
 "metadata": {
  "kernelspec": {
   "display_name": "pyword",
   "language": "python",
   "name": "python3"
  },
  "language_info": {
   "codemirror_mode": {
    "name": "ipython",
    "version": 3
   },
   "file_extension": ".py",
   "mimetype": "text/x-python",
   "name": "python",
   "nbconvert_exporter": "python",
   "pygments_lexer": "ipython3",
   "version": "3.9.17"
  },
  "orig_nbformat": 4
 },
 "nbformat": 4,
 "nbformat_minor": 2
}
